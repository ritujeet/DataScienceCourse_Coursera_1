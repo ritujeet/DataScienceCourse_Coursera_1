{
 "cells": [
  {
   "cell_type": "markdown",
   "metadata": {},
   "source": [
    "<center>\n",
    "    <img src=\"https://cf-courses-data.s3.us.cloud-object-storage.appdomain.cloud/IBMDeveloperSkillsNetwork-DS0105EN-SkillsNetwork/labs/Module2/images/SN_web_lightmode.png\" width=\"300\" alt=\"cognitiveclass.ai logo\">\n",
    "</center>\n"
   ]
  },
  {
   "cell_type": "markdown",
   "metadata": {
    "tags": []
   },
   "source": [
    "#### Add your code below following the instructions given in the course\n"
   ]
  },
  {
   "cell_type": "markdown",
   "metadata": {},
   "source": [
    "<h1>Data Science Tools and Ecosystem</h1>\n",
    "<div>In this notebook, Data Science Tools and Ecosystem are summarized.</div>\n",
    "<div>\n",
    "    Objectives:\n",
    "    <ul>\n",
    "        <li>Some of the popular languages that Data Scientists use</li>\n",
    "        <li>Some of the commonly used libraries used by Data Scientists</li>\n",
    "        <li>Few examples of evaluating arithmetic expressions in Python</li>\n",
    "    </ul>\n",
    "</div>\n",
    "<div>\n",
    "    <h2>Author</h2>\n",
    "    Ritujeet\n",
    "</div>"
   ]
  },
  {
   "cell_type": "markdown",
   "metadata": {},
   "source": [
    "<div>\n",
    "    Some of the popular languages that Data Scientists use are:\n",
    "    <ol>\n",
    "        <li>Python</li>\n",
    "        <li>R</li>\n",
    "        <li>C</li>\n",
    "        <li>C++</li>\n",
    "    </ol>\n",
    "</div>"
   ]
  },
  {
   "cell_type": "markdown",
   "metadata": {},
   "source": [
    "<div>\n",
    "    Some of the commonly used libraries used by Data Scientists include:\n",
    "    <ol>\n",
    "        <li>Matplotlib</li>\n",
    "        <li>Pandas</li>\n",
    "        <li>NumPy</li>\n",
    "        <li>Seaborn</li>\n",
    "    </ol>\n",
    "</div>"
   ]
  },
  {
   "cell_type": "markdown",
   "metadata": {},
   "source": [
    "<div>\n",
    "    <table>\n",
    "        <th>\n",
    "            Data Science Tools\n",
    "        </th>\n",
    "        <tr>\n",
    "            <td>Jupyter Notebooks</td>\n",
    "        </tr>\n",
    "         <tr>\n",
    "           <td>R studio</td>\n",
    "        </tr>\n",
    "         <tr>\n",
    "            <td>Zeppelin Notebooks</td>\n",
    "        </tr>\n",
    "    </table>\n",
    "</div>"
   ]
  },
  {
   "cell_type": "markdown",
   "metadata": {},
   "source": [
    "<h3>Below are a few examples of evaluating arithmetic expressions in Python</h3>"
   ]
  },
  {
   "cell_type": "code",
   "execution_count": 2,
   "metadata": {
    "tags": []
   },
   "outputs": [
    {
     "data": {
      "text/plain": [
       "17"
      ]
     },
     "execution_count": 2,
     "metadata": {},
     "output_type": "execute_result"
    }
   ],
   "source": [
    "#This a simple arithmetic expression to mutiply then add integers\n",
    "(3*4)+5"
   ]
  },
  {
   "cell_type": "code",
   "execution_count": 3,
   "metadata": {},
   "outputs": [
    {
     "data": {
      "text/plain": [
       "3.3333333333333335"
      ]
     },
     "execution_count": 3,
     "metadata": {},
     "output_type": "execute_result"
    }
   ],
   "source": [
    "#his will convert 200 minutes to hours by diving by 60\n",
    "200/60"
   ]
  },
  {
   "cell_type": "code",
   "execution_count": null,
   "metadata": {},
   "outputs": [],
   "source": []
  }
 ],
 "metadata": {
  "kernelspec": {
   "display_name": "Python",
   "language": "python",
   "name": "conda-env-python-py"
  },
  "language_info": {
   "codemirror_mode": {
    "name": "ipython",
    "version": 3
   },
   "file_extension": ".py",
   "mimetype": "text/x-python",
   "name": "python",
   "nbconvert_exporter": "python",
   "pygments_lexer": "ipython3",
   "version": "3.7.12"
  }
 },
 "nbformat": 4,
 "nbformat_minor": 4
}
